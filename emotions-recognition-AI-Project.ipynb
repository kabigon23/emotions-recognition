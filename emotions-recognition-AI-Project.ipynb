{
 "cells": [
  {
   "cell_type": "markdown",
   "id": "ec3ab29e-7212-4951-9ce0-4f389892d72d",
   "metadata": {},
   "source": [
    "# Emotions Recognition AI Project"
   ]
  },
  {
   "cell_type": "markdown",
   "id": "104378e8-20ec-40a7-93cc-78674dc5c7c2",
   "metadata": {},
   "source": [
    "### 사용할 모델 다운로드\n",
    "#### 1. face-detection-adas-0001 다운로드"
   ]
  },
  {
   "cell_type": "code",
   "execution_count": 2,
   "id": "4a8edce0-1a23-4848-af57-0c76c3f05703",
   "metadata": {},
   "outputs": [
    {
     "name": "stdout",
     "output_type": "stream",
     "text": [
      "################|| Downloading face-detection-adas-0001 ||################\n",
      "\n",
      "========== Downloading C:\\BrainAI\\emotion_recognition\\intel\\face-detection-adas-0001\\FP16\\face-detection-adas-0001.xml\n",
      "... 100%, 304 KB, 79 KB/s, 3 seconds passed\n",
      "\n",
      "========== Downloading C:\\BrainAI\\emotion_recognition\\intel\\face-detection-adas-0001\\FP16\\face-detection-adas-0001.bin\n",
      "... 49%, 1024 KB, 170 KB/s, 6 seconds passed\n",
      "... 99%, 2048 KB, 280 KB/s, 7 seconds passed\n",
      "... 100%, 2056 KB, 281 KB/s, 7 seconds passed\n",
      "\n"
     ]
    }
   ],
   "source": [
    "!omz_downloader --name face-detection-adas-0001 --precision FP16"
   ]
  },
  {
   "cell_type": "markdown",
   "id": "e69fa265-66e3-4e6b-a6a8-6fc043db0768",
   "metadata": {},
   "source": [
    "#### 2. emotions-recognition-retail-0003 모델 다운로드"
   ]
  },
  {
   "cell_type": "code",
   "execution_count": 4,
   "id": "032a0914-7b83-4492-b5ed-ce87280e48ef",
   "metadata": {},
   "outputs": [
    {
     "name": "stdout",
     "output_type": "stream",
     "text": [
      "################|| Downloading emotions-recognition-retail-0003 ||################\n",
      "\n",
      "========== Downloading C:\\BrainAI\\emotion_recognition\\intel\\emotions-recognition-retail-0003\\FP16\\emotions-recognition-retail-0003.xml\n",
      "... 100%, 54 KB, 115 KB/s, 0 seconds passed\n",
      "\n",
      "========== Downloading C:\\BrainAI\\emotion_recognition\\intel\\emotions-recognition-retail-0003\\FP16\\emotions-recognition-retail-0003.bin\n",
      "... 21%, 1024 KB, 736 KB/s, 1 seconds passed\n",
      "... 42%, 2048 KB, 1260 KB/s, 1 seconds passed\n",
      "... 63%, 3072 KB, 1873 KB/s, 1 seconds passed\n",
      "... 84%, 4096 KB, 2203 KB/s, 1 seconds passed\n",
      "... 100%, 4848 KB, 2565 KB/s, 1 seconds passed\n",
      "\n"
     ]
    }
   ],
   "source": [
    "!omz_downloader --name emotions-recognition-retail-0003 --precision FP16"
   ]
  },
  {
   "cell_type": "markdown",
   "id": "804c7ada-996a-43c8-9edd-29be70fa1be6",
   "metadata": {},
   "source": [
    "### 필요한 라이브러리 Imports"
   ]
  },
  {
   "cell_type": "code",
   "execution_count": 3,
   "id": "c5e01eb0-e31d-4ad9-a880-6f8974b0c7d6",
   "metadata": {},
   "outputs": [],
   "source": [
    "import openvino as ov\n",
    "import cv2\n",
    "import numpy as np\n",
    "\n",
    "import matplotlib.pyplot as plt\n",
    "from pathlib import Path"
   ]
  },
  {
   "cell_type": "markdown",
   "id": "1e83a45b-5129-4e41-8981-dea0d342e815",
   "metadata": {},
   "source": [
    "### Inference 할 device 확인"
   ]
  },
  {
   "cell_type": "code",
   "execution_count": 4,
   "id": "8ea8c214-3a06-4086-b585-305f23bc3e41",
   "metadata": {},
   "outputs": [
    {
     "data": {
      "text/plain": [
       "['CPU', 'GPU']"
      ]
     },
     "execution_count": 4,
     "metadata": {},
     "output_type": "execute_result"
    }
   ],
   "source": [
    "core = ov.Core()\n",
    "options=core.available_devices\n",
    "\n",
    "options"
   ]
  },
  {
   "cell_type": "markdown",
   "id": "cc91dcfd-a22b-4a57-a88c-712b8a73bd04",
   "metadata": {},
   "source": [
    "### Load the Model"
   ]
  },
  {
   "cell_type": "code",
   "execution_count": 5,
   "id": "c8ac745d-25f2-4990-88da-d8783bbe7cb4",
   "metadata": {},
   "outputs": [
    {
     "name": "stdout",
     "output_type": "stream",
     "text": [
      "Input layer shape:  [1,3,384,672]\n",
      "Output layer shape:  [1,1,200,7]\n"
     ]
    }
   ],
   "source": [
    "model = core.read_model(model=\"models/face-detection-adas-0001.xml\")\n",
    "face_model = core.compile_model(model=model, device_name=\"CPU\")\n",
    "\n",
    "face_input_layer = face_model.input(0)\n",
    "face_output_layer = face_model.output(0)\n",
    "print(\"Input layer shape: \", face_input_layer.shape)\n",
    "print(\"Output layer shape: \", face_output_layer.shape)"
   ]
  },
  {
   "cell_type": "code",
   "execution_count": 6,
   "id": "3ea0c238-1af5-4866-86d6-60ce411bbf58",
   "metadata": {},
   "outputs": [
    {
     "name": "stdout",
     "output_type": "stream",
     "text": [
      "Input layer shape:  [1,3,64,64]\n",
      "Output layer shape:  [1,5,1,1]\n"
     ]
    }
   ],
   "source": [
    "model = core.read_model(model=\"models/emotions-recognition-retail-0003.xml\")\n",
    "emotion_model = core.compile_model(model=model, device_name=\"CPU\")\n",
    "\n",
    "emotion_input_layer = emotion_model.input(0)\n",
    "emotion_output_layer = emotion_model.output(0)\n",
    "print(\"Input layer shape: \", emotion_input_layer.shape)\n",
    "print(\"Output layer shape: \", emotion_output_layer.shape)"
   ]
  },
  {
   "cell_type": "markdown",
   "id": "808bde8b-6c43-4792-b950-a5c6bab16faf",
   "metadata": {},
   "source": [
    "### Load Image"
   ]
  },
  {
   "cell_type": "code",
   "execution_count": 7,
   "id": "77d480ad-2f84-43b7-aa65-c895d99ad71b",
   "metadata": {},
   "outputs": [],
   "source": [
    "frame = cv2.imread(\"images/emotions.jpg\")\n",
    "resized_frame = cv2.resize(src=frame, dsize=(672, 384)) \n",
    "transposed_frame = resized_frame.transpose(2, 0, 1)\n",
    "input_frame = np.expand_dims(transposed_frame, 0)"
   ]
  },
  {
   "cell_type": "markdown",
   "id": "4c661b5c-1338-4cc5-905c-81b2908eed0e",
   "metadata": {},
   "source": [
    "### DrawBoundingBoxes() 함수"
   ]
  },
  {
   "cell_type": "code",
   "execution_count": 8,
   "id": "d122a6a8-5fda-4cb6-b350-e18ab1163ca6",
   "metadata": {},
   "outputs": [],
   "source": [
    "def DrawBoundingBoxes(output, frame, conf=0.5):\n",
    "    boxes = []\n",
    "    canvas = frame.copy()\n",
    "    h,w,_ = canvas.shape \n",
    "\n",
    "    predictions = output[0][0]            # 하위 집합 데이터 프레임\n",
    "    confidence = predictions[:,2]         # conf 값 가져오기 [image_id, label, conf, x_min, y_min, x_max, y_max]\n",
    "\n",
    "    top_predictions = predictions[(confidence>conf)]         # 임계값보다 큰 conf 값을 가진 예측만 선택\n",
    "\n",
    "    for detection in top_predictions:\n",
    "        box = (detection[3:7] * np.array([w, h, w, h])).astype(\"int\") # 상자 위치 결정\n",
    "        (xmin, ymin, xmax, ymax) = box   # xmin, ymin, xmax, ymax에 상자 위치 값 지정\n",
    "        cv2.rectangle(frame, (xmin, ymin), (xmax, ymax), (0, 0, 255), 2)       # 사각형 그리기\n",
    "        boxes.append(box)     #이미지에 박스를 그린 얼굴의 위치 저장\n",
    "   \n",
    "    return boxes"
   ]
  },
  {
   "cell_type": "code",
   "execution_count": 9,
   "id": "ac073b31-df1c-4361-a98e-9a4a677617f9",
   "metadata": {},
   "outputs": [],
   "source": [
    "def DrawText(output, frame, face_position):\n",
    "    # emotions 딕셔너리 생성\n",
    "    emotions = {\n",
    "        0:\"neutral\",\n",
    "        1:\"happy\",\n",
    "        2:\"sad\",\n",
    "        3:\"surprise\",\n",
    "        4:\"anger\"\n",
    "    }\n",
    "    # 딕셔너리 출력하기\n",
    "    #for key, value in emotions.items():\n",
    "    #    print(key, value, end='      ')\n",
    "    #print()\n",
    "        \n",
    "    predictions = output[0,:,0,0]              # 5개의 감정 예측값 저장\n",
    "    print(\"predictions : \" + str(predictions))\n",
    "    \n",
    "    topresult_index = np.argmax(predictions)   # 5개의 감정 예측값 중 가장 높은값의 위치 저장\n",
    "    #print(\"topresult_index : \" + str(topresult_index))\n",
    "    \n",
    "    emotion = emotions[topresult_index]        # emotions에서 topresult_index 값에 해당하는 감정 저장\n",
    "    #print(\"emotion : \" + emotion)\n",
    "    \n",
    "    cv2.putText(frame, emotion,                 # 예측한 감정값 이미지에 출력하기\n",
    "                (face_position[0],face_position[1]),    #xmin, ymin 값을 가져와 위치 설정\n",
    "                cv2.FONT_HERSHEY_SIMPLEX, 1, \n",
    "                (255, 0,0), 2)"
   ]
  },
  {
   "cell_type": "code",
   "execution_count": 1,
   "id": "3f5a7cc7-0977-4f70-8f78-822d2911d837",
   "metadata": {},
   "outputs": [],
   "source": [
    "def AddBackground(frame, bg):\n",
    "\n",
    "    frame_h, frame_w = frame.shape[0], frame.shape[1]\n",
    "    new_h = 500\n",
    "    new_w = int((new_h/frame_h)*frame_w)\n",
    "    frame_resize = cv2.resize(frame, (new_w, new_h))\n",
    "\n",
    "    xmax = bg.shape[1] - 350\n",
    "    ymax = bg.shape[0] - 175\n",
    "    xmin = xmax - new_w\n",
    "    ymin = ymax - new_h\n",
    "\n",
    "    bg[ymin:ymax, xmin:xmax] = frame_resize\n",
    "\n",
    "    return bg"
   ]
  },
  {
   "cell_type": "code",
   "execution_count": 2,
   "id": "0b7d1c77-953b-4a9c-81e9-da4cfaf5ed9f",
   "metadata": {},
   "outputs": [
    {
     "ename": "NameError",
     "evalue": "name 'face_model' is not defined",
     "output_type": "error",
     "traceback": [
      "\u001b[1;31m---------------------------------------------------------------------------\u001b[0m",
      "\u001b[1;31mNameError\u001b[0m                                 Traceback (most recent call last)",
      "Cell \u001b[1;32mIn[2], line 1\u001b[0m\n\u001b[1;32m----> 1\u001b[0m face_output \u001b[38;5;241m=\u001b[39m face_model([input_frame])[face_output_layer]\n\u001b[0;32m      2\u001b[0m boxes \u001b[38;5;241m=\u001b[39m DrawBoundingBoxes(face_output, frame, conf\u001b[38;5;241m=\u001b[39m\u001b[38;5;241m0.5\u001b[39m)\n",
      "\u001b[1;31mNameError\u001b[0m: name 'face_model' is not defined"
     ]
    }
   ],
   "source": [
    "face_output = face_model([input_frame])[face_output_layer]\n",
    "boxes = DrawBoundingBoxes(face_output, frame, conf=0.5)"
   ]
  },
  {
   "cell_type": "code",
   "execution_count": 9,
   "id": "e03bccce-8c84-44c6-99a1-00fdfe40461b",
   "metadata": {},
   "outputs": [
    {
     "name": "stdout",
     "output_type": "stream",
     "text": [
      "predictions : [0.11398169 0.00161786 0.14375116 0.00120419 0.7394451 ]\n"
     ]
    },
    {
     "ename": "NameError",
     "evalue": "name 'AddBackground' is not defined",
     "output_type": "error",
     "traceback": [
      "\u001b[1;31m---------------------------------------------------------------------------\u001b[0m",
      "\u001b[1;31mNameError\u001b[0m                                 Traceback (most recent call last)",
      "Cell \u001b[1;32mIn[9], line 34\u001b[0m\n\u001b[0;32m     31\u001b[0m         emotion_output \u001b[38;5;241m=\u001b[39m emotion_model([input_image])[emotion_output_layer]  \u001b[38;5;66;03m# 감정 추론\u001b[39;00m\n\u001b[0;32m     32\u001b[0m         DrawText(emotion_output, frame, box)   \u001b[38;5;66;03m# 추론의 결과값 이미지에 출력하기\u001b[39;00m\n\u001b[1;32m---> 34\u001b[0m deployment \u001b[38;5;241m=\u001b[39m AddBackground(frame, bg)\n\u001b[0;32m     36\u001b[0m cv2\u001b[38;5;241m.\u001b[39mimshow(\u001b[38;5;124m'\u001b[39m\u001b[38;5;124mPress Spacebar to Exit\u001b[39m\u001b[38;5;124m'\u001b[39m, deployment)\n\u001b[0;32m     38\u001b[0m \u001b[38;5;28;01mif\u001b[39;00m cv2\u001b[38;5;241m.\u001b[39mwaitKey(\u001b[38;5;241m1\u001b[39m) \u001b[38;5;241m&\u001b[39m \u001b[38;5;241m0xFF\u001b[39m \u001b[38;5;241m==\u001b[39m \u001b[38;5;28mord\u001b[39m(\u001b[38;5;124m'\u001b[39m\u001b[38;5;124m \u001b[39m\u001b[38;5;124m'\u001b[39m):  \u001b[38;5;66;03m# Stop if spacebar is detected\u001b[39;00m\n",
      "\u001b[1;31mNameError\u001b[0m: name 'AddBackground' is not defined"
     ]
    }
   ],
   "source": [
    "camera = cv2.VideoCapture(0) #create a VideoCapture object with the 'first' camera (your webcam)\n",
    "background = \"./images/Background.jpg\"\n",
    "bg = cv2.imread(background)\n",
    "\n",
    "while(True):\n",
    "    ret, frame = camera.read()             # Capture frame by frame      \n",
    "    if ret == False:\n",
    "        break\n",
    "    \n",
    "    resized_frame = cv2.resize(src=frame, dsize=(672, 384)) \n",
    "    transposed_frame = resized_frame.transpose(2, 0, 1)\n",
    "    input_frame = np.expand_dims(transposed_frame, 0)    \n",
    "    \n",
    "    face_output = face_model([input_frame])[face_output_layer]\n",
    "    \n",
    "    boxes = DrawBoundingBoxes(face_output, frame, conf=0.5)\n",
    "    \n",
    "    if boxes is not None:\n",
    "    \n",
    "        for box in boxes:          #boxes에 저장된 얼굴의 위치들을 하나씩 box에 전달\n",
    "    \n",
    "            xmin, ymin, xmax, ymax = box      #box에 저장된 좌표 저장\n",
    "            emotion_input = frame[ymin:ymax,xmin:xmax]         #이미지에서 해당 얼굴 위치를 찾아 저장\n",
    "        \n",
    "            # 감정 인식 모델을 사용하기 위해 이미지 전처리\n",
    "            # Input layer shape:  [1,3,64,64]\n",
    "            resized_image = cv2.resize(src=emotion_input, dsize=(64, 64))      #이미지 사이즈 변경  (64,64,3)\n",
    "            transposed_image = resized_image.transpose(2, 0, 1)                #shape 위치 변경    (3,64,64)\n",
    "            input_image = np.expand_dims(transposed_image, 0)                  #차원 확장 (1,3,64,64)\n",
    "\n",
    "            emotion_output = emotion_model([input_image])[emotion_output_layer]  # 감정 추론\n",
    "            DrawText(emotion_output, frame, box)   # 추론의 결과값 이미지에 출력하기\n",
    "    \n",
    "    deployment = AddBackground(frame, bg)\n",
    "    \n",
    "    cv2.imshow('Press Spacebar to Exit', deployment)\n",
    "\n",
    "    if cv2.waitKey(1) & 0xFF == ord(' '):  # Stop if spacebar is detected\n",
    "        break\n",
    "\n",
    "camera.release()                           # Cleanup after spacebar is detected.\n",
    "cv2.destroyAllWindows()"
   ]
  },
  {
   "cell_type": "code",
   "execution_count": null,
   "id": "05faf975-3eb2-4e37-9fc9-a135c9616228",
   "metadata": {},
   "outputs": [],
   "source": []
  }
 ],
 "metadata": {
  "kernelspec": {
   "display_name": "Python 3 (ipykernel)",
   "language": "python",
   "name": "python3"
  },
  "language_info": {
   "codemirror_mode": {
    "name": "ipython",
    "version": 3
   },
   "file_extension": ".py",
   "mimetype": "text/x-python",
   "name": "python",
   "nbconvert_exporter": "python",
   "pygments_lexer": "ipython3",
   "version": "3.11.8"
  }
 },
 "nbformat": 4,
 "nbformat_minor": 5
}
